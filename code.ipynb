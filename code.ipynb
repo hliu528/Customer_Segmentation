{
 "cells": [
  {
   "cell_type": "code",
   "execution_count": 1,
   "metadata": {},
   "outputs": [],
   "source": [
    "import pandas as pd\n",
    "\n"
   ]
  },
  {
   "cell_type": "code",
   "execution_count": 2,
   "metadata": {},
   "outputs": [],
   "source": [
    "df = pd.read_csv('customer_segmentation.csv')"
   ]
  },
  {
   "cell_type": "code",
   "execution_count": 4,
   "metadata": {},
   "outputs": [
    {
     "data": {
      "text/html": [
       "<div>\n",
       "<style scoped>\n",
       "    .dataframe tbody tr th:only-of-type {\n",
       "        vertical-align: middle;\n",
       "    }\n",
       "\n",
       "    .dataframe tbody tr th {\n",
       "        vertical-align: top;\n",
       "    }\n",
       "\n",
       "    .dataframe thead th {\n",
       "        text-align: right;\n",
       "    }\n",
       "</style>\n",
       "<table border=\"1\" class=\"dataframe\">\n",
       "  <thead>\n",
       "    <tr style=\"text-align: right;\">\n",
       "      <th></th>\n",
       "      <th>index</th>\n",
       "      <th>InvoiceNo</th>\n",
       "      <th>StockCode</th>\n",
       "      <th>Description</th>\n",
       "      <th>Quantity</th>\n",
       "      <th>InvoiceDate</th>\n",
       "      <th>UnitPrice</th>\n",
       "      <th>CustomerID</th>\n",
       "      <th>Country</th>\n",
       "    </tr>\n",
       "  </thead>\n",
       "  <tbody>\n",
       "    <tr>\n",
       "      <th>0</th>\n",
       "      <td>0</td>\n",
       "      <td>536365</td>\n",
       "      <td>85123A</td>\n",
       "      <td>WHITE HANGING HEART T-LIGHT HOLDER</td>\n",
       "      <td>6</td>\n",
       "      <td>12/1/2010 8:26</td>\n",
       "      <td>2.55</td>\n",
       "      <td>17850.0</td>\n",
       "      <td>United Kingdom</td>\n",
       "    </tr>\n",
       "    <tr>\n",
       "      <th>1</th>\n",
       "      <td>1</td>\n",
       "      <td>536365</td>\n",
       "      <td>71053</td>\n",
       "      <td>WHITE METAL LANTERN</td>\n",
       "      <td>6</td>\n",
       "      <td>12/1/2010 8:26</td>\n",
       "      <td>3.39</td>\n",
       "      <td>17850.0</td>\n",
       "      <td>United Kingdom</td>\n",
       "    </tr>\n",
       "    <tr>\n",
       "      <th>2</th>\n",
       "      <td>2</td>\n",
       "      <td>536365</td>\n",
       "      <td>84406B</td>\n",
       "      <td>CREAM CUPID HEARTS COAT HANGER</td>\n",
       "      <td>8</td>\n",
       "      <td>12/1/2010 8:26</td>\n",
       "      <td>2.75</td>\n",
       "      <td>17850.0</td>\n",
       "      <td>United Kingdom</td>\n",
       "    </tr>\n",
       "    <tr>\n",
       "      <th>3</th>\n",
       "      <td>3</td>\n",
       "      <td>536365</td>\n",
       "      <td>84029G</td>\n",
       "      <td>KNITTED UNION FLAG HOT WATER BOTTLE</td>\n",
       "      <td>6</td>\n",
       "      <td>12/1/2010 8:26</td>\n",
       "      <td>3.39</td>\n",
       "      <td>17850.0</td>\n",
       "      <td>United Kingdom</td>\n",
       "    </tr>\n",
       "    <tr>\n",
       "      <th>4</th>\n",
       "      <td>4</td>\n",
       "      <td>536365</td>\n",
       "      <td>84029E</td>\n",
       "      <td>RED WOOLLY HOTTIE WHITE HEART.</td>\n",
       "      <td>6</td>\n",
       "      <td>12/1/2010 8:26</td>\n",
       "      <td>3.39</td>\n",
       "      <td>17850.0</td>\n",
       "      <td>United Kingdom</td>\n",
       "    </tr>\n",
       "  </tbody>\n",
       "</table>\n",
       "</div>"
      ],
      "text/plain": [
       "   index InvoiceNo StockCode                          Description  Quantity  \\\n",
       "0      0    536365    85123A   WHITE HANGING HEART T-LIGHT HOLDER         6   \n",
       "1      1    536365     71053                  WHITE METAL LANTERN         6   \n",
       "2      2    536365    84406B       CREAM CUPID HEARTS COAT HANGER         8   \n",
       "3      3    536365    84029G  KNITTED UNION FLAG HOT WATER BOTTLE         6   \n",
       "4      4    536365    84029E       RED WOOLLY HOTTIE WHITE HEART.         6   \n",
       "\n",
       "      InvoiceDate  UnitPrice  CustomerID         Country  \n",
       "0  12/1/2010 8:26       2.55     17850.0  United Kingdom  \n",
       "1  12/1/2010 8:26       3.39     17850.0  United Kingdom  \n",
       "2  12/1/2010 8:26       2.75     17850.0  United Kingdom  \n",
       "3  12/1/2010 8:26       3.39     17850.0  United Kingdom  \n",
       "4  12/1/2010 8:26       3.39     17850.0  United Kingdom  "
      ]
     },
     "execution_count": 4,
     "metadata": {},
     "output_type": "execute_result"
    }
   ],
   "source": [
    "df.head()"
   ]
  },
  {
   "cell_type": "markdown",
   "metadata": {},
   "source": [
    "### The dataset contains the following columns:\n",
    "\n",
    "- InvoiceNo: Invoice number, a unique identifier for each transaction.\n",
    "- StockCode: Product item code.\n",
    "- Description: Product description.\n",
    "- Quantity: The number of units purchased in the transaction.\n",
    "- InvoiceDate: The date and time of the purchase.\n",
    "- UnitPrice: Price per unit of the product.\n",
    "- CustomerID: A unique identifier for each customer.\n",
    "- Country: The country of origin of the customer."
   ]
  },
  {
   "cell_type": "markdown",
   "metadata": {},
   "source": [
    "## Data Cleaning and Preprocessing"
   ]
  },
  {
   "cell_type": "code",
   "execution_count": 31,
   "metadata": {},
   "outputs": [
    {
     "name": "stderr",
     "output_type": "stream",
     "text": [
      "C:\\Users\\haoli\\AppData\\Local\\Temp\\ipykernel_2248\\677397352.py:11: SettingWithCopyWarning: \n",
      "A value is trying to be set on a copy of a slice from a DataFrame.\n",
      "Try using .loc[row_indexer,col_indexer] = value instead\n",
      "\n",
      "See the caveats in the documentation: https://pandas.pydata.org/pandas-docs/stable/user_guide/indexing.html#returning-a-view-versus-a-copy\n",
      "  data_cleaned['CustomerID'] = data_cleaned['CustomerID'].astype(int)\n"
     ]
    },
    {
     "data": {
      "text/plain": [
       "{'Initial Data Shape': (541909, 9),\n",
       " 'Data Shape after Cleaning': (397880, 7),\n",
       " 'Missing Data per Column': index               0\n",
       " InvoiceNo           0\n",
       " StockCode           0\n",
       " Description      1454\n",
       " Quantity            0\n",
       " InvoiceDate         0\n",
       " UnitPrice           0\n",
       " CustomerID     135080\n",
       " Country             0\n",
       " dtype: int64,\n",
       " 'Data Types after Conversion': InvoiceNo              object\n",
       " StockCode              object\n",
       " Quantity                int64\n",
       " InvoiceDate    datetime64[ns]\n",
       " UnitPrice             float64\n",
       " CustomerID              int32\n",
       " Country                object\n",
       " dtype: object}"
      ]
     },
     "execution_count": 31,
     "metadata": {},
     "output_type": "execute_result"
    }
   ],
   "source": [
    "# Check for missing values\n",
    "missing_data = df.isnull().sum()\n",
    "\n",
    "# Convert 'InvoiceDate' to datetime format\n",
    "df['InvoiceDate'] = pd.to_datetime(df['InvoiceDate'])\n",
    "\n",
    "# Remove rows with missing CustomerID\n",
    "data_cleaned = df.dropna(subset=['CustomerID'])\n",
    "\n",
    "# Convert CustomerID from float to int\n",
    "data_cleaned['CustomerID'] = data_cleaned['CustomerID'].astype(int)\n",
    "\n",
    "# Remove duplicate entries\n",
    "data_cleaned = data_cleaned.drop_duplicates()\n",
    "\n",
    "# Remove 'index' and 'Description'\n",
    "data_cleaned.drop(columns=['index', 'Description'], inplace=True)\n",
    "\n",
    "# Remove records with negative or zero quantities, and non-positive unit prices\n",
    "data_cleaned = data_cleaned[(data_cleaned['Quantity'] > 0)]\n",
    "data_cleaned = data_cleaned[(data_cleaned['UnitPrice'] > 0.01)]\n",
    "\n",
    "# Summary of actions\n",
    "cleaning_summary = {\n",
    "    \"Initial Data Shape\": df.shape,\n",
    "    \"Data Shape after Cleaning\": data_cleaned.shape,\n",
    "    \"Missing Data per Column\": missing_data,\n",
    "    \"Data Types after Conversion\": data_cleaned.dtypes\n",
    "}\n",
    "\n",
    "cleaning_summary"
   ]
  },
  {
   "cell_type": "markdown",
   "metadata": {},
   "source": [
    "### Data Summary\n",
    "- Initial Data Shape: 541,909 rows and 9 columns.\n",
    "- Data Shape after Cleaning: 397,880 rows and 9 columns.\n",
    "- Rows with missing CustomerID were removed, and duplicates were dropped.\n",
    "- Missing Data: The CustomerID column had 135,080 missing entries, and the Description column had 1,454 missing entries.\n",
    "- All missing CustomerID entries were removed.\n",
    "- All records with non-positive quantity were removed.\n",
    "- All records with non-positive unitprice were removed.\n",
    "- Data Types Adjusted: Converted InvoiceDate to datetime format and changed CustomerID from float to integer.\n"
   ]
  },
  {
   "cell_type": "markdown",
   "metadata": {},
   "source": [
    "## Exploratoty Data Analysis (EDA)"
   ]
  },
  {
   "cell_type": "markdown",
   "metadata": {},
   "source": [
    "I will conduct an exploratory data analysis to understand the distributions of key variables, their relationships, and to identify any notable trends or patterns. This will include:\n",
    "\n",
    "- Distribution of transactions by country.\n",
    "- Analysis of quantity and unit prices.\n",
    "- Trends over time based on invoice date."
   ]
  },
  {
   "cell_type": "code",
   "execution_count": 32,
   "metadata": {},
   "outputs": [],
   "source": [
    "# Distribution of transactions by country\n",
    "country_distribution = data_cleaned['Country'].value_counts()\n",
    "\n",
    "# Basic descriptive statistics for 'Quantity' and 'UnitPrice'\n",
    "quantity_stats = data_cleaned['Quantity'].describe()\n",
    "unit_price_stats = data_cleaned['UnitPrice'].describe()"
   ]
  },
  {
   "cell_type": "code",
   "execution_count": 33,
   "metadata": {},
   "outputs": [
    {
     "data": {
      "text/plain": [
       "Country\n",
       "United Kingdom          354317\n",
       "Germany                   9040\n",
       "France                    8341\n",
       "EIRE                      7236\n",
       "Spain                     2484\n",
       "Netherlands               2359\n",
       "Belgium                   2031\n",
       "Switzerland               1841\n",
       "Portugal                  1462\n",
       "Australia                 1182\n",
       "Norway                    1071\n",
       "Italy                      758\n",
       "Channel Islands            748\n",
       "Finland                    685\n",
       "Cyprus                     614\n",
       "Sweden                     451\n",
       "Austria                    398\n",
       "Denmark                    380\n",
       "Poland                     330\n",
       "Japan                      321\n",
       "Israel                     248\n",
       "Unspecified                244\n",
       "Singapore                  222\n",
       "Iceland                    182\n",
       "USA                        179\n",
       "Canada                     151\n",
       "Greece                     145\n",
       "Malta                      112\n",
       "United Arab Emirates        68\n",
       "European Community          60\n",
       "RSA                         57\n",
       "Lebanon                     45\n",
       "Lithuania                   35\n",
       "Brazil                      32\n",
       "Czech Republic              25\n",
       "Bahrain                     17\n",
       "Saudi Arabia                 9\n",
       "Name: count, dtype: int64"
      ]
     },
     "execution_count": 33,
     "metadata": {},
     "output_type": "execute_result"
    }
   ],
   "source": [
    "country_distribution"
   ]
  },
  {
   "cell_type": "code",
   "execution_count": 34,
   "metadata": {},
   "outputs": [
    {
     "data": {
      "text/plain": [
       "count    397880.000000\n",
       "mean         12.988358\n",
       "std         179.332672\n",
       "min           1.000000\n",
       "25%           2.000000\n",
       "50%           6.000000\n",
       "75%          12.000000\n",
       "max       80995.000000\n",
       "Name: Quantity, dtype: float64"
      ]
     },
     "execution_count": 34,
     "metadata": {},
     "output_type": "execute_result"
    }
   ],
   "source": [
    "quantity_stats"
   ]
  },
  {
   "cell_type": "code",
   "execution_count": 35,
   "metadata": {},
   "outputs": [
    {
     "data": {
      "text/plain": [
       "count    397880.000000\n",
       "mean          3.116519\n",
       "std          22.097986\n",
       "min           0.040000\n",
       "25%           1.250000\n",
       "50%           1.950000\n",
       "75%           3.750000\n",
       "max        8142.750000\n",
       "Name: UnitPrice, dtype: float64"
      ]
     },
     "execution_count": 35,
     "metadata": {},
     "output_type": "execute_result"
    }
   ],
   "source": [
    "unit_price_stats"
   ]
  },
  {
   "cell_type": "markdown",
   "metadata": {},
   "source": [
    "### Exploratory Data Analysis (EDA) Results\n",
    "1. Transaction Distribution by Country\n",
    "The majority of transactions come from the United Kingdom, with 354,317 transactions, followed by Germany (9,040), France (8,341), EIRE (7,236), and Spain (2,484). This indicates a strong market focus in the UK, which may influence customer behavior and buying patterns.\n",
    "\n",
    "2. Descriptive Statistics for Quantity and Unit Price\n",
    "- Quantity:\n",
    "The average quantity per transaction is approximately 13 items.\n",
    "However, there is a high standard deviation, suggesting significant variance in the number of items per purchase.\n",
    "The minimum and maximum values show extreme values (1 and 80,995)\n",
    "- Unit Price:\n",
    "The average unit price is about £3.12.\n",
    "Similar to quantity, there's a high standard deviation and extreme values in unit prices, ranging from £0.04 to £8,142.75."
   ]
  },
  {
   "cell_type": "markdown",
   "metadata": {},
   "source": [
    "To further understand the data, I will analyze trends over time, particularly how customer purchasing behavior varies by month or season."
   ]
  },
  {
   "cell_type": "code",
   "execution_count": 38,
   "metadata": {},
   "outputs": [
    {
     "data": {
      "text/html": [
       "<div>\n",
       "<style scoped>\n",
       "    .dataframe tbody tr th:only-of-type {\n",
       "        vertical-align: middle;\n",
       "    }\n",
       "\n",
       "    .dataframe tbody tr th {\n",
       "        vertical-align: top;\n",
       "    }\n",
       "\n",
       "    .dataframe thead th {\n",
       "        text-align: right;\n",
       "    }\n",
       "</style>\n",
       "<table border=\"1\" class=\"dataframe\">\n",
       "  <thead>\n",
       "    <tr style=\"text-align: right;\">\n",
       "      <th></th>\n",
       "      <th>YearMonth</th>\n",
       "      <th>Total_Quantity</th>\n",
       "      <th>Total_Sales</th>\n",
       "    </tr>\n",
       "  </thead>\n",
       "  <tbody>\n",
       "    <tr>\n",
       "      <th>0</th>\n",
       "      <td>2010-12</td>\n",
       "      <td>312265</td>\n",
       "      <td>81935.61</td>\n",
       "    </tr>\n",
       "    <tr>\n",
       "      <th>1</th>\n",
       "      <td>2011-01</td>\n",
       "      <td>349098</td>\n",
       "      <td>66964.99</td>\n",
       "    </tr>\n",
       "    <tr>\n",
       "      <th>2</th>\n",
       "      <td>2011-02</td>\n",
       "      <td>265622</td>\n",
       "      <td>63185.76</td>\n",
       "    </tr>\n",
       "    <tr>\n",
       "      <th>3</th>\n",
       "      <td>2011-03</td>\n",
       "      <td>348503</td>\n",
       "      <td>88563.10</td>\n",
       "    </tr>\n",
       "    <tr>\n",
       "      <th>4</th>\n",
       "      <td>2011-04</td>\n",
       "      <td>292221</td>\n",
       "      <td>79005.48</td>\n",
       "    </tr>\n",
       "    <tr>\n",
       "      <th>5</th>\n",
       "      <td>2011-05</td>\n",
       "      <td>373601</td>\n",
       "      <td>102128.28</td>\n",
       "    </tr>\n",
       "    <tr>\n",
       "      <th>6</th>\n",
       "      <td>2011-06</td>\n",
       "      <td>363699</td>\n",
       "      <td>85274.73</td>\n",
       "    </tr>\n",
       "    <tr>\n",
       "      <th>7</th>\n",
       "      <td>2011-07</td>\n",
       "      <td>369419</td>\n",
       "      <td>75919.90</td>\n",
       "    </tr>\n",
       "    <tr>\n",
       "      <th>8</th>\n",
       "      <td>2011-08</td>\n",
       "      <td>398121</td>\n",
       "      <td>79423.83</td>\n",
       "    </tr>\n",
       "    <tr>\n",
       "      <th>9</th>\n",
       "      <td>2011-09</td>\n",
       "      <td>544895</td>\n",
       "      <td>119053.06</td>\n",
       "    </tr>\n",
       "    <tr>\n",
       "      <th>10</th>\n",
       "      <td>2011-10</td>\n",
       "      <td>593900</td>\n",
       "      <td>165849.98</td>\n",
       "    </tr>\n",
       "    <tr>\n",
       "      <th>11</th>\n",
       "      <td>2011-11</td>\n",
       "      <td>669051</td>\n",
       "      <td>185522.46</td>\n",
       "    </tr>\n",
       "    <tr>\n",
       "      <th>12</th>\n",
       "      <td>2011-12</td>\n",
       "      <td>287413</td>\n",
       "      <td>47173.43</td>\n",
       "    </tr>\n",
       "  </tbody>\n",
       "</table>\n",
       "</div>"
      ],
      "text/plain": [
       "   YearMonth  Total_Quantity  Total_Sales\n",
       "0    2010-12          312265     81935.61\n",
       "1    2011-01          349098     66964.99\n",
       "2    2011-02          265622     63185.76\n",
       "3    2011-03          348503     88563.10\n",
       "4    2011-04          292221     79005.48\n",
       "5    2011-05          373601    102128.28\n",
       "6    2011-06          363699     85274.73\n",
       "7    2011-07          369419     75919.90\n",
       "8    2011-08          398121     79423.83\n",
       "9    2011-09          544895    119053.06\n",
       "10   2011-10          593900    165849.98\n",
       "11   2011-11          669051    185522.46\n",
       "12   2011-12          287413     47173.43"
      ]
     },
     "execution_count": 38,
     "metadata": {},
     "output_type": "execute_result"
    }
   ],
   "source": [
    "# Add a 'YearMonth' column for trend analysis\n",
    "data_cleaned['YearMonth'] = data_cleaned['InvoiceDate'].dt.to_period('M')\n",
    "\n",
    "# Monthly trend analysis\n",
    "monthly_trends = data_cleaned.groupby('YearMonth').agg(Total_Quantity=('Quantity', 'sum'), Total_Sales=('UnitPrice', 'sum')).reset_index()\n",
    "\n",
    "monthly_trends"
   ]
  },
  {
   "cell_type": "markdown",
   "metadata": {},
   "source": [
    "### Monthly Trend Analysis Results\n",
    "\n",
    "#### Total Quantity Purchased and Total Sales Over Time:\n",
    "The quantity of items purchased and total sales both fluctuate throughout the year.\n",
    "There is a noticeable peak in November 2011, where both total quantity (669,051 items) and total sales (£185,522.46) are highest, likely due to increased shopping activity around the holiday season.\n",
    "December 2011 shows a sharp decline in both metrics, which may be attributed to the dataset only capturing part of the month's transactions.\n",
    "The month-to-month variation could reflect different marketing campaigns, seasonal effects, or varying economic conditions."
   ]
  },
  {
   "cell_type": "markdown",
   "metadata": {},
   "source": [
    "## Customer Clustering "
   ]
  },
  {
   "cell_type": "markdown",
   "metadata": {},
   "source": [
    "I will proceed with the customer segmentation using clustering. To do this, I need to create a customer-level dataset that includes features like total spend, average spend per transaction, total items purchased, and frequency of purchases. These features will help us differentiate customer behaviors and preferences.\n",
    "\n",
    "### Steps to Create Customer-Level Features:\n",
    "- Total Spend: Calculate the total amount each customer has spent.\n",
    "- Total Items Purchased: Sum up all items purchased by each customer.\n",
    "- Average Spend Per Transaction: Compute the average spend for each customer per transaction.\n",
    "- Frequency of Purchases: Count the number of transactions per customer."
   ]
  },
  {
   "cell_type": "code",
   "execution_count": 36,
   "metadata": {},
   "outputs": [
    {
     "data": {
      "text/html": [
       "<div>\n",
       "<style scoped>\n",
       "    .dataframe tbody tr th:only-of-type {\n",
       "        vertical-align: middle;\n",
       "    }\n",
       "\n",
       "    .dataframe tbody tr th {\n",
       "        vertical-align: top;\n",
       "    }\n",
       "\n",
       "    .dataframe thead th {\n",
       "        text-align: right;\n",
       "    }\n",
       "</style>\n",
       "<table border=\"1\" class=\"dataframe\">\n",
       "  <thead>\n",
       "    <tr style=\"text-align: right;\">\n",
       "      <th></th>\n",
       "      <th>CustomerID</th>\n",
       "      <th>Total_Spend</th>\n",
       "      <th>Total_Items</th>\n",
       "      <th>Average_Spend_Per_Transaction</th>\n",
       "      <th>Purchase_Frequency</th>\n",
       "    </tr>\n",
       "  </thead>\n",
       "  <tbody>\n",
       "    <tr>\n",
       "      <th>0</th>\n",
       "      <td>12346</td>\n",
       "      <td>77183.60</td>\n",
       "      <td>74215</td>\n",
       "      <td>77183.600000</td>\n",
       "      <td>1</td>\n",
       "    </tr>\n",
       "    <tr>\n",
       "      <th>1</th>\n",
       "      <td>12347</td>\n",
       "      <td>4310.00</td>\n",
       "      <td>2458</td>\n",
       "      <td>615.714286</td>\n",
       "      <td>7</td>\n",
       "    </tr>\n",
       "    <tr>\n",
       "      <th>2</th>\n",
       "      <td>12348</td>\n",
       "      <td>1797.24</td>\n",
       "      <td>2341</td>\n",
       "      <td>449.310000</td>\n",
       "      <td>4</td>\n",
       "    </tr>\n",
       "    <tr>\n",
       "      <th>3</th>\n",
       "      <td>12349</td>\n",
       "      <td>1757.55</td>\n",
       "      <td>631</td>\n",
       "      <td>1757.550000</td>\n",
       "      <td>1</td>\n",
       "    </tr>\n",
       "    <tr>\n",
       "      <th>4</th>\n",
       "      <td>12350</td>\n",
       "      <td>334.40</td>\n",
       "      <td>197</td>\n",
       "      <td>334.400000</td>\n",
       "      <td>1</td>\n",
       "    </tr>\n",
       "  </tbody>\n",
       "</table>\n",
       "</div>"
      ],
      "text/plain": [
       "   CustomerID  Total_Spend  Total_Items  Average_Spend_Per_Transaction  \\\n",
       "0       12346     77183.60        74215                   77183.600000   \n",
       "1       12347      4310.00         2458                     615.714286   \n",
       "2       12348      1797.24         2341                     449.310000   \n",
       "3       12349      1757.55          631                    1757.550000   \n",
       "4       12350       334.40          197                     334.400000   \n",
       "\n",
       "   Purchase_Frequency  \n",
       "0                   1  \n",
       "1                   7  \n",
       "2                   4  \n",
       "3                   1  \n",
       "4                   1  "
      ]
     },
     "execution_count": 36,
     "metadata": {},
     "output_type": "execute_result"
    }
   ],
   "source": [
    "# Create customer-level features\n",
    "customer_data = data_cleaned.groupby('CustomerID').agg(\n",
    "    Total_Spend=pd.NamedAgg(column='UnitPrice', aggfunc=lambda x: (x * data_cleaned.loc[x.index, 'Quantity']).sum()),\n",
    "    Total_Items=pd.NamedAgg(column='Quantity', aggfunc='sum'),\n",
    "    Average_Spend_Per_Transaction=pd.NamedAgg(column='InvoiceNo', aggfunc=lambda x: (data_cleaned.loc[x.index, 'UnitPrice'] * data_cleaned.loc[x.index, 'Quantity']).sum() / x.nunique()),\n",
    "    Purchase_Frequency=pd.NamedAgg(column='InvoiceNo', aggfunc='nunique')\n",
    ").reset_index()\n",
    "\n",
    "customer_data.head()\n"
   ]
  },
  {
   "cell_type": "markdown",
   "metadata": {},
   "source": [
    "After creating these features, we will standardize the data to ensure each feature contributes equally to the clustering process and then use K-Means clustering to identify customer segments."
   ]
  },
  {
   "cell_type": "code",
   "execution_count": 39,
   "metadata": {},
   "outputs": [
    {
     "ename": "NameError",
     "evalue": "name 'data_filtered' is not defined",
     "output_type": "error",
     "traceback": [
      "\u001b[1;31m---------------------------------------------------------------------------\u001b[0m",
      "\u001b[1;31mNameError\u001b[0m                                 Traceback (most recent call last)",
      "Cell \u001b[1;32mIn[39], line 2\u001b[0m\n\u001b[0;32m      1\u001b[0m \u001b[38;5;66;03m# Create customer-level features\u001b[39;00m\n\u001b[1;32m----> 2\u001b[0m customer_data \u001b[38;5;241m=\u001b[39m data_filtered\u001b[38;5;241m.\u001b[39mgroupby(\u001b[38;5;124m'\u001b[39m\u001b[38;5;124mCustomerID\u001b[39m\u001b[38;5;124m'\u001b[39m)\u001b[38;5;241m.\u001b[39magg(\n\u001b[0;32m      3\u001b[0m     Total_Spend\u001b[38;5;241m=\u001b[39mpd\u001b[38;5;241m.\u001b[39mNamedAgg(column\u001b[38;5;241m=\u001b[39m\u001b[38;5;124m'\u001b[39m\u001b[38;5;124mUnitPrice\u001b[39m\u001b[38;5;124m'\u001b[39m, aggfunc\u001b[38;5;241m=\u001b[39m\u001b[38;5;28;01mlambda\u001b[39;00m x: (x \u001b[38;5;241m*\u001b[39m data_filtered\u001b[38;5;241m.\u001b[39mloc[x\u001b[38;5;241m.\u001b[39mindex, \u001b[38;5;124m'\u001b[39m\u001b[38;5;124mQuantity\u001b[39m\u001b[38;5;124m'\u001b[39m])\u001b[38;5;241m.\u001b[39msum()),\n\u001b[0;32m      4\u001b[0m     Total_Items\u001b[38;5;241m=\u001b[39mpd\u001b[38;5;241m.\u001b[39mNamedAgg(column\u001b[38;5;241m=\u001b[39m\u001b[38;5;124m'\u001b[39m\u001b[38;5;124mQuantity\u001b[39m\u001b[38;5;124m'\u001b[39m, aggfunc\u001b[38;5;241m=\u001b[39m\u001b[38;5;124m'\u001b[39m\u001b[38;5;124msum\u001b[39m\u001b[38;5;124m'\u001b[39m),\n\u001b[0;32m      5\u001b[0m     Average_Spend_Per_Transaction\u001b[38;5;241m=\u001b[39mpd\u001b[38;5;241m.\u001b[39mNamedAgg(column\u001b[38;5;241m=\u001b[39m\u001b[38;5;124m'\u001b[39m\u001b[38;5;124mInvoiceNo\u001b[39m\u001b[38;5;124m'\u001b[39m, aggfunc\u001b[38;5;241m=\u001b[39m\u001b[38;5;28;01mlambda\u001b[39;00m x: (data_filtered\u001b[38;5;241m.\u001b[39mloc[x\u001b[38;5;241m.\u001b[39mindex, \u001b[38;5;124m'\u001b[39m\u001b[38;5;124mUnitPrice\u001b[39m\u001b[38;5;124m'\u001b[39m] \u001b[38;5;241m*\u001b[39m data_filtered\u001b[38;5;241m.\u001b[39mloc[x\u001b[38;5;241m.\u001b[39mindex, \u001b[38;5;124m'\u001b[39m\u001b[38;5;124mQuantity\u001b[39m\u001b[38;5;124m'\u001b[39m])\u001b[38;5;241m.\u001b[39msum() \u001b[38;5;241m/\u001b[39m x\u001b[38;5;241m.\u001b[39mnunique()),\n\u001b[0;32m      6\u001b[0m     Purchase_Frequency\u001b[38;5;241m=\u001b[39mpd\u001b[38;5;241m.\u001b[39mNamedAgg(column\u001b[38;5;241m=\u001b[39m\u001b[38;5;124m'\u001b[39m\u001b[38;5;124mInvoiceNo\u001b[39m\u001b[38;5;124m'\u001b[39m, aggfunc\u001b[38;5;241m=\u001b[39m\u001b[38;5;124m'\u001b[39m\u001b[38;5;124mnunique\u001b[39m\u001b[38;5;124m'\u001b[39m)\n\u001b[0;32m      7\u001b[0m )\u001b[38;5;241m.\u001b[39mreset_index()\n\u001b[0;32m      9\u001b[0m customer_data\u001b[38;5;241m.\u001b[39mhead()\n",
      "\u001b[1;31mNameError\u001b[0m: name 'data_filtered' is not defined"
     ]
    }
   ],
   "source": [
    "# Create customer-level features\n",
    "customer_data = data_cleaned.groupby('CustomerID').agg(\n",
    "    Total_Spend=pd.NamedAgg(column='UnitPrice', aggfunc=lambda x: (x * data_filtered.loc[x.index, 'Quantity']).sum()),\n",
    "    Total_Items=pd.NamedAgg(column='Quantity', aggfunc='sum'),\n",
    "    Average_Spend_Per_Transaction=pd.NamedAgg(column='InvoiceNo', aggfunc=lambda x: (data_filtered.loc[x.index, 'UnitPrice'] * data_filtered.loc[x.index, 'Quantity']).sum() / x.nunique()),\n",
    "    Purchase_Frequency=pd.NamedAgg(column='InvoiceNo', aggfunc='nunique')\n",
    ").reset_index()\n",
    "\n",
    "customer_data.head()\n"
   ]
  },
  {
   "cell_type": "code",
   "execution_count": null,
   "metadata": {},
   "outputs": [],
   "source": [
    "# Standardize the customer-level features\n",
    "scaler_corrected = StandardScaler()\n",
    "scaled_features_corrected = scaler_corrected.fit_transform(customer_data[['Total_Spend', 'Total_Items', 'Average_Spend_Per_Transaction', 'Purchase_Frequency']])\n",
    "\n",
    "# Simplified determination of the optimal number of clusters using the elbow method with correct data\n",
    "sse_corrected = []\n",
    "for k in range(1, 6):  # Testing a reasonable range for quicker computation\n",
    "    kmeans_corrected = KMeans(n_clusters=k, random_state=42)\n",
    "    kmeans_corrected.fit(scaled_features_corrected)\n",
    "    sse_corrected.append(kmeans_corrected.inertia_)\n",
    "\n",
    "# Plot SSE for different values of k with corrected data\n",
    "plt.figure(figsize=(10, 6))\n",
    "plt.plot(range(1, 6), sse_corrected, marker='o')\n",
    "plt.title('Elbow Method for Optimal k (Corrected Data)')\n",
    "plt.xlabel('Number of Clusters')\n",
    "plt.ylabel('SSE')\n",
    "plt.show()\n"
   ]
  }
 ],
 "metadata": {
  "kernelspec": {
   "display_name": "base",
   "language": "python",
   "name": "python3"
  },
  "language_info": {
   "codemirror_mode": {
    "name": "ipython",
    "version": 3
   },
   "file_extension": ".py",
   "mimetype": "text/x-python",
   "name": "python",
   "nbconvert_exporter": "python",
   "pygments_lexer": "ipython3",
   "version": "3.11.7"
  }
 },
 "nbformat": 4,
 "nbformat_minor": 2
}
